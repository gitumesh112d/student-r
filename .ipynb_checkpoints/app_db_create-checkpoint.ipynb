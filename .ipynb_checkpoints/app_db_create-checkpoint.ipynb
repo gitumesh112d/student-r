{
 "cells": [
  {
   "cell_type": "code",
   "execution_count": 2,
   "id": "ccb7583c-28e9-4543-9680-c4ca4816f53c",
   "metadata": {},
   "outputs": [],
   "source": [
    "from flask import Flask, render_template, request, redirect, url_for\n",
    "import sqlite3\n",
    "\n",
    "app = Flask(__name__)\n",
    "\n",
    "# Initialize the database and create a table for registration if it doesn’t exist\n",
    "def init_db():\n",
    "    conn = sqlite3.connect('registration.db')\n",
    "    c = conn.cursor()\n",
    "    c.execute('''CREATE TABLE IF NOT EXISTS registration\n",
    "                 (ID INTEGER PRIMARY KEY AUTOINCREMENT, F_Name TEXT, L_Name TEXT, Subject TEXT, Class TEXT, Title TEXT, Registration_Fees INTEGER, comment TEXT)''')\n",
    "    conn.commit()\n",
    "    conn.close()\n",
    "\n",
    "init_db()\n"
   ]
  }
 ],
 "metadata": {
  "kernelspec": {
   "display_name": "Python 3 (ipykernel)",
   "language": "python",
   "name": "python3"
  },
  "language_info": {
   "codemirror_mode": {
    "name": "ipython",
    "version": 3
   },
   "file_extension": ".py",
   "mimetype": "text/x-python",
   "name": "python",
   "nbconvert_exporter": "python",
   "pygments_lexer": "ipython3",
   "version": "3.13.0"
  }
 },
 "nbformat": 4,
 "nbformat_minor": 5
}
